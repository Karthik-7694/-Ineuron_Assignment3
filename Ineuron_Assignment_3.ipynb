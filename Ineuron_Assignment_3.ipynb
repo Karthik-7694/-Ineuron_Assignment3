{
 "cells": [
  {
   "cell_type": "code",
   "execution_count": 1,
   "metadata": {},
   "outputs": [],
   "source": [
    "# Task 1\n",
    "#1)Write a function to compute 5/0 and use try/except to catch the exceptions\n",
    "\n",
    "def exception():\n",
    "    try:\n",
    "        value=5/0\n",
    "    except ValueError:\n",
    "        print('Value Error have occured')\n",
    "    except ZeroDivisionError:\n",
    "        print('Zero Division Error has occured')\n",
    "    except:\n",
    "        print('The error is not defined and unknown error has occured')\n",
    "    else:\n",
    "        print('No Error is defined for this')\n",
    "    finally:\n",
    "        print('The above artihmetic operation cannot be performed')\n"
   ]
  },
  {
   "cell_type": "code",
   "execution_count": 2,
   "metadata": {},
   "outputs": [
    {
     "name": "stdout",
     "output_type": "stream",
     "text": [
      "Zero Division Error has occured\n",
      "The above artihmetic operation cannot be performed\n"
     ]
    }
   ],
   "source": [
    "exception()"
   ]
  },
  {
   "cell_type": "code",
   "execution_count": 3,
   "metadata": {},
   "outputs": [
    {
     "name": "stdout",
     "output_type": "stream",
     "text": [
      "Americans Play Baseball\n",
      "Americans Play cricket\n",
      "Americans watch Baseball\n",
      "Americans watch cricket\n",
      "Indians Play Baseball\n",
      "Indians Play cricket\n",
      "Indians watch Baseball\n",
      "Indians watch cricket\n"
     ]
    }
   ],
   "source": [
    "# 2)Implement a Python program to generate all sentences where subject is in [\"Americans\",\"Indians\"] and verb is in [\"Play\", \"watch\"] and the object is in [\"Baseball\",\"cricket\"].\n",
    "\n",
    "# Method 1:\n",
    "\n",
    "subject=[\"Americans\", \"Indians\"]\n",
    "verb=[\"Play\", \"watch\"]\n",
    "obj=[\"Baseball\",\"cricket\"]\n",
    "\n",
    "for i in subject:\n",
    "    for j in verb:\n",
    "        for k in obj:\n",
    "            print(i+' '+j+' '+k)\n"
   ]
  },
  {
   "cell_type": "code",
   "execution_count": 4,
   "metadata": {},
   "outputs": [],
   "source": [
    "# 2)Implement a Python program to generate all sentences where subject is in [\"Americans\",\"Indians\"] and verb is in [\"Play\", \"watch\"] and the object is in [\"Baseball\",\"cricket\"].\n",
    "\n",
    "# Method 2: Using User Defined Function\n",
    "\n",
    "subject=[\"Americans \",\"Indians\"]\n",
    "verbs=[\"play\",\"watch\"]\n",
    "obj=[\"Baseball\",\"Cricket\"]\n",
    "\n",
    "def combination_of_all_sentences(subject=None,verbs=None,obj=None):\n",
    "    for i in subject:\n",
    "        for j in verb:\n",
    "            for k in obj:\n",
    "                print(i+' '+j+' '+k)\n",
    "\n",
    "\n"
   ]
  },
  {
   "cell_type": "code",
   "execution_count": 5,
   "metadata": {},
   "outputs": [
    {
     "name": "stdout",
     "output_type": "stream",
     "text": [
      "Americans  Play Baseball\n",
      "Americans  Play Cricket\n",
      "Americans  watch Baseball\n",
      "Americans  watch Cricket\n",
      "Indians Play Baseball\n",
      "Indians Play Cricket\n",
      "Indians watch Baseball\n",
      "Indians watch Cricket\n"
     ]
    }
   ],
   "source": [
    "combination_of_all_sentences(subject=subject,verbs=verbs,obj=obj)"
   ]
  },
  {
   "cell_type": "code",
   "execution_count": 6,
   "metadata": {},
   "outputs": [
    {
     "name": "stdout",
     "output_type": "stream",
     "text": [
      "Americans  play Baseball\n",
      "Americans  play Cricket\n",
      "Americans  watch Baseball\n",
      "Americans  watch Cricket\n",
      "Indians play Baseball\n",
      "Indians play Cricket\n",
      "Indians watch Baseball\n",
      "Indians watch Cricket\n"
     ]
    }
   ],
   "source": [
    "# 2)Implement a Python program to generate all sentences where subject is in [\"Americans\",\"Indians\"] and verb is in [\"Play\", \"watch\"] and the object is in [\"Baseball\",\"cricket\"].\n",
    "\n",
    "# Method 2: Using list Comphrehension\n",
    "\n",
    "subject=[\"Americans \",\"Indians\"]\n",
    "verbs=[\"play\",\"watch\"]\n",
    "obj=[\"Baseball\",\"Cricket\"]\n",
    "\n",
    "all_sentence=[(subjects+' '+verb+' '+objects)for subjects in subject for verb in verbs for objects in obj]\n",
    "for i in all_sentence:\n",
    "    print(i)\n"
   ]
  },
  {
   "cell_type": "code",
   "execution_count": 7,
   "metadata": {},
   "outputs": [],
   "source": [
    "# Task 2 : Write a function so that the columns of the output matrix are powers of the input vector.\n",
    "\n",
    "'''The order of the powers is determined by the increasing boolean argument. Specifically, when\n",
    "increasing is False, the i-th output column is the input vector raised element-wise to the power\n",
    "of N - i - 1.\n",
    "HINT: Such a matrix with a geometric progression in each row is named for AlexandreTheophile Vandermonde.'''\n",
    "\n",
    "\n",
    "# Method 1 : Using User Defined Function without use of Numpy\n",
    "\n",
    "def Vandermonde(value, N=None, increasing = True):\n",
    "    \n",
    "    if N == None : N = len(value)\n",
    "    if increasing:\n",
    "        matrix = [[element**power for power in range(0, N)] for element in value]\n",
    "        print(matrix)\n",
    "    else:\n",
    "        matrix = [[element**power for power in range(N-1, -1, -1)] for element in value]\n",
    "        print(matrix)\n"
   ]
  },
  {
   "cell_type": "code",
   "execution_count": 8,
   "metadata": {},
   "outputs": [
    {
     "name": "stdout",
     "output_type": "stream",
     "text": [
      "[[1, 1, 1, 1], [1, 5, 25, 125], [1, 7, 49, 343], [1, 9, 81, 729]]\n"
     ]
    }
   ],
   "source": [
    "Vandermonde([1,5,7,9])"
   ]
  },
  {
   "cell_type": "code",
   "execution_count": 9,
   "metadata": {},
   "outputs": [
    {
     "data": {
      "text/plain": [
       "array([[  1,   1,   1,   1],\n",
       "       [  1,   5,  25, 125],\n",
       "       [  1,   7,  49, 343],\n",
       "       [  1,   9,  81, 729]])"
      ]
     },
     "execution_count": 9,
     "metadata": {},
     "output_type": "execute_result"
    }
   ],
   "source": [
    "# Task 2 : Write a function so that the columns of the output matrix are powers of the input vector.\n",
    "\n",
    "'''The order of the powers is determined by the increasing boolean argument. Specifically, when\n",
    "increasing is False, the i-th output column is the input vector raised element-wise to the power\n",
    "of N - i - 1.\n",
    "HINT: Such a matrix with a geometric progression in each row is named for AlexandreTheophile Vandermonde.'''\n",
    "\n",
    "# Method 2 : Using Inbuilt function \n",
    "\n",
    "import numpy as np\n",
    "x = np.array([1, 5, 7, 9])\n",
    "np.vander(x)\n",
    "\n",
    "np.vander(x, increasing=True)"
   ]
  }
 ],
 "metadata": {
  "kernelspec": {
   "display_name": "Python 3",
   "language": "python",
   "name": "python3"
  },
  "language_info": {
   "codemirror_mode": {
    "name": "ipython",
    "version": 3
   },
   "file_extension": ".py",
   "mimetype": "text/x-python",
   "name": "python",
   "nbconvert_exporter": "python",
   "pygments_lexer": "ipython3",
   "version": "3.7.4"
  }
 },
 "nbformat": 4,
 "nbformat_minor": 2
}
